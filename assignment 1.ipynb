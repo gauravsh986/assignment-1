{
 "cells": [
  {
   "cell_type": "code",
   "execution_count": 1,
   "id": "7036805b-3d2a-4bf3-8d8e-e73b24d03ead",
   "metadata": {},
   "outputs": [],
   "source": [
    "# question 1"
   ]
  },
  {
   "cell_type": "code",
   "execution_count": 2,
   "id": "16dbc648-dd74-43b4-87b9-60867630e992",
   "metadata": {},
   "outputs": [],
   "source": [
    "string = (\"hello pw skills team member\")\n",
    "\n",
    "list   = [54,96,\"hello\",55.09,True,\"pwskills\"]\n",
    "\n",
    "float  = 555.986\n",
    "\n",
    "tuple  = ( \"gaurav\" , \"sharma\" , 56 , True )"
   ]
  },
  {
   "cell_type": "code",
   "execution_count": null,
   "id": "227f2954-e6ac-4d72-b784-0c61abb9b495",
   "metadata": {},
   "outputs": [],
   "source": []
  },
  {
   "cell_type": "code",
   "execution_count": null,
   "id": "0768eb69-02c8-4ad5-8e01-6e6707012a9e",
   "metadata": {},
   "outputs": [],
   "source": []
  },
  {
   "cell_type": "code",
   "execution_count": 4,
   "id": "a96befa5-4657-4ef6-9fba-3ea526e9d753",
   "metadata": {},
   "outputs": [],
   "source": [
    "# question 2"
   ]
  },
  {
   "cell_type": "code",
   "execution_count": 5,
   "id": "b8ffbc00-d51c-439d-8f74-ee22f6afbe37",
   "metadata": {},
   "outputs": [
    {
     "name": "stdout",
     "output_type": "stream",
     "text": [
      "<class 'str'>\n"
     ]
    }
   ],
   "source": [
    "var1 = ''\n",
    "print(type(var1))"
   ]
  },
  {
   "cell_type": "code",
   "execution_count": 6,
   "id": "0e4b4300-1223-4de0-91d3-c520a5124c4f",
   "metadata": {},
   "outputs": [
    {
     "name": "stdout",
     "output_type": "stream",
     "text": [
      "<class 'str'>\n"
     ]
    }
   ],
   "source": [
    "var2 = '[DS,ML,PYTHON]'\n",
    "print(type(var2))"
   ]
  },
  {
   "cell_type": "code",
   "execution_count": 7,
   "id": "05504b94-b2ed-4eab-a478-449b1c6af274",
   "metadata": {},
   "outputs": [
    {
     "name": "stdout",
     "output_type": "stream",
     "text": [
      "<class 'list'>\n"
     ]
    }
   ],
   "source": [
    "var3 = ['DS','ML','PYTHON']\n",
    "print(type(var3))"
   ]
  },
  {
   "cell_type": "code",
   "execution_count": 8,
   "id": "cce8f04d-388e-4694-bd82-39f39fb2d9ac",
   "metadata": {},
   "outputs": [
    {
     "name": "stdout",
     "output_type": "stream",
     "text": [
      "<class 'int'>\n"
     ]
    }
   ],
   "source": [
    "var4 = 1\n",
    "print(type(var4))"
   ]
  },
  {
   "cell_type": "code",
   "execution_count": null,
   "id": "f842b392-1f2d-4358-9efc-c53199067e94",
   "metadata": {},
   "outputs": [],
   "source": []
  },
  {
   "cell_type": "code",
   "execution_count": null,
   "id": "910ab218-fd2c-46d0-a5fa-a5dd343c4caa",
   "metadata": {},
   "outputs": [],
   "source": []
  },
  {
   "cell_type": "code",
   "execution_count": 9,
   "id": "4080ec87-2617-4c8d-b80c-88ef01ac58aa",
   "metadata": {},
   "outputs": [],
   "source": [
    "# question 3"
   ]
  },
  {
   "cell_type": "code",
   "execution_count": null,
   "id": "c5ce5739-2d42-49ec-a505-eec8be0176fc",
   "metadata": {},
   "outputs": [],
   "source": [
    "#   / = it is symbol of division"
   ]
  },
  {
   "cell_type": "code",
   "execution_count": 2,
   "id": "3ea419a9-1e17-40c2-ac88-db2a4b05043d",
   "metadata": {},
   "outputs": [
    {
     "name": "stdout",
     "output_type": "stream",
     "text": [
      "2.5\n"
     ]
    }
   ],
   "source": [
    "x = 5 \n",
    "y = 2\n",
    "print(x/y)"
   ]
  },
  {
   "cell_type": "code",
   "execution_count": 4,
   "id": "681c98b2-98c0-4ebb-b507-805b72b7ce0c",
   "metadata": {},
   "outputs": [
    {
     "name": "stdout",
     "output_type": "stream",
     "text": [
      "1\n"
     ]
    }
   ],
   "source": [
    "#   %  =  modulus  (it shows how much remainder was left)\n",
    "print(x%y)"
   ]
  },
  {
   "cell_type": "code",
   "execution_count": 5,
   "id": "76db8d4c-b313-42f1-ba50-fbe686e7f52e",
   "metadata": {},
   "outputs": [
    {
     "name": "stdout",
     "output_type": "stream",
     "text": [
      "2\n"
     ]
    }
   ],
   "source": [
    "#  //  = floor division  ( it does not show the value after point )\n",
    "print(x//y)"
   ]
  },
  {
   "cell_type": "code",
   "execution_count": 6,
   "id": "391f0288-7cc4-46f8-824a-031ee81a0a2d",
   "metadata": {},
   "outputs": [
    {
     "name": "stdout",
     "output_type": "stream",
     "text": [
      "25\n"
     ]
    }
   ],
   "source": [
    "#  **  =  exponentiation  ( it represents the power)\n",
    "print(x**y)"
   ]
  },
  {
   "cell_type": "code",
   "execution_count": null,
   "id": "3e39cf90-33ff-4400-8438-cfc1dd7f7e79",
   "metadata": {},
   "outputs": [],
   "source": []
  },
  {
   "cell_type": "code",
   "execution_count": null,
   "id": "9795de5d-958e-4c3a-a78a-e1232c2358d4",
   "metadata": {},
   "outputs": [],
   "source": []
  },
  {
   "cell_type": "code",
   "execution_count": 7,
   "id": "339bce46-d888-45c6-9ef9-4f1c3ae23410",
   "metadata": {},
   "outputs": [
    {
     "name": "stdout",
     "output_type": "stream",
     "text": [
      "<class 'str'>\n",
      "<class 'int'>\n",
      "<class 'bool'>\n",
      "<class 'float'>\n",
      "<class 'bool'>\n",
      "<class 'str'>\n",
      "<class 'int'>\n",
      "<class 'str'>\n",
      "<class 'int'>\n",
      "<class 'float'>\n"
     ]
    }
   ],
   "source": [
    "# question 4 \n",
    "l = ['gaurav',56,True,46.98,False,'sharma',55,'pwskills',236,678.567]\n",
    "for g in l :\n",
    "    print(type(g))"
   ]
  },
  {
   "cell_type": "code",
   "execution_count": null,
   "id": "5e30d3c0-bbb0-4f61-8dca-173168b09eab",
   "metadata": {},
   "outputs": [],
   "source": []
  },
  {
   "cell_type": "code",
   "execution_count": 3,
   "id": "aebd6cb8-e24f-4ffd-b31a-5e69c9a4e16f",
   "metadata": {},
   "outputs": [
    {
     "name": "stdin",
     "output_type": "stream",
     "text": [
      " 45\n",
      " 65\n"
     ]
    },
    {
     "name": "stdout",
     "output_type": "stream",
     "text": [
      "0\n"
     ]
    }
   ],
   "source": [
    "# question 5\n",
    "A = int(input())\n",
    "B = int(input())\n",
    "count = 0\n",
    "while A % B == 0 :\n",
    "    A = A // B\n",
    "    count += 1\n",
    "print(count)"
   ]
  },
  {
   "cell_type": "code",
   "execution_count": null,
   "id": "0df396cd-7ff9-455e-b3a4-d0c6e8dc3743",
   "metadata": {},
   "outputs": [],
   "source": []
  },
  {
   "cell_type": "code",
   "execution_count": 2,
   "id": "76c205c6-e8b9-4b34-9982-cb04201f6642",
   "metadata": {},
   "outputs": [
    {
     "name": "stdout",
     "output_type": "stream",
     "text": [
      "54 Divisible by 3\n",
      "67  not divisible\n",
      "25  not divisible\n",
      "87 Divisible by 3\n",
      "45 Divisible by 3\n",
      "78 Divisible by 3\n",
      "24 Divisible by 3\n",
      "34  not divisible\n",
      "245  not divisible\n",
      "90 Divisible by 3\n",
      "45 Divisible by 3\n",
      "3333 Divisible by 3\n",
      "234 Divisible by 3\n",
      "57 Divisible by 3\n",
      "32  not divisible\n",
      "12 Divisible by 3\n",
      "9994  not divisible\n",
      "67  not divisible\n",
      "47  not divisible\n",
      "89  not divisible\n",
      "76  not divisible\n",
      "87 Divisible by 3\n",
      "21 Divisible by 3\n",
      "53  not divisible\n",
      "34  not divisible\n"
     ]
    }
   ],
   "source": [
    "# quetion 6\n",
    "l = [54,67,25,87,45,78,24,34,245,90,45,3333,234,57,32,12,9994,67,47,89,76,87,21,53,34]\n",
    "for i in l :\n",
    "    if i % 3 == 0 :\n",
    "        print(i,'Divisible by 3')\n",
    "    elif i % 3 != 0 :\n",
    "        print(i,' not divisible')"
   ]
  },
  {
   "cell_type": "code",
   "execution_count": null,
   "id": "624871cb-3aa1-4039-8369-ccabd88d033f",
   "metadata": {},
   "outputs": [],
   "source": []
  },
  {
   "cell_type": "code",
   "execution_count": 4,
   "id": "728e7346-e58b-4de5-b89f-444a966ccd61",
   "metadata": {},
   "outputs": [],
   "source": [
    "# question 6\n",
    "\n",
    "# mutable - A mutable object can be changed after it is created\n",
    "# example - List, Set, Dictionary\n",
    "\n",
    "# immutable - An immutable object cannot be changed after it is created\n",
    "# example   - tuples, int, float, bool"
   ]
  },
  {
   "cell_type": "code",
   "execution_count": null,
   "id": "aac6055e-2d65-4f5c-9417-6bb22144ec45",
   "metadata": {},
   "outputs": [],
   "source": []
  }
 ],
 "metadata": {
  "kernelspec": {
   "display_name": "Python 3 (ipykernel)",
   "language": "python",
   "name": "python3"
  },
  "language_info": {
   "codemirror_mode": {
    "name": "ipython",
    "version": 3
   },
   "file_extension": ".py",
   "mimetype": "text/x-python",
   "name": "python",
   "nbconvert_exporter": "python",
   "pygments_lexer": "ipython3",
   "version": "3.10.8"
  }
 },
 "nbformat": 4,
 "nbformat_minor": 5
}
